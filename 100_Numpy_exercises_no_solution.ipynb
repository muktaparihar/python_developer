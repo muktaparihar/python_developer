{
 "cells": [
  {
   "cell_type": "markdown",
   "metadata": {},
   "source": [
    "# 100 numpy exercises\n",
    "\n",
    "This is a collection of exercises that have been collected in the numpy mailing list, on stack overflow and in the numpy documentation. The goal of this collection is to offer a quick reference for both old and new users but also to provide a set of exercises for those who teach.\n",
    "\n",
    "\n",
    "If you find an error or think you've a better way to solve some of them, feel free to open an issue at <https://github.com/rougier/numpy-100>"
   ]
  },
  {
   "cell_type": "markdown",
   "metadata": {},
   "source": [
    "#### 1. Import the numpy package under the name `np` (★☆☆)"
   ]
  },
  {
   "cell_type": "code",
   "execution_count": 2,
   "metadata": {},
   "outputs": [
    {
     "name": "stdout",
     "output_type": "stream",
     "text": [
      "1.17.0\n"
     ]
    }
   ],
   "source": [
    "import numpy as np\n",
    "print(np.__version__)"
   ]
  },
  {
   "cell_type": "markdown",
   "metadata": {},
   "source": [
    "#### 2. Print the numpy version and the configuration (★☆☆)"
   ]
  },
  {
   "cell_type": "code",
   "execution_count": 3,
   "metadata": {},
   "outputs": [
    {
     "name": "stdout",
     "output_type": "stream",
     "text": [
      "1.17.0\n",
      "blas_mkl_info:\n",
      "  NOT AVAILABLE\n",
      "blis_info:\n",
      "  NOT AVAILABLE\n",
      "openblas_info:\n",
      "    libraries = ['openblas', 'openblas']\n",
      "    library_dirs = ['/usr/local/lib']\n",
      "    language = c\n",
      "    define_macros = [('HAVE_CBLAS', None)]\n",
      "blas_opt_info:\n",
      "    libraries = ['openblas', 'openblas']\n",
      "    library_dirs = ['/usr/local/lib']\n",
      "    language = c\n",
      "    define_macros = [('HAVE_CBLAS', None)]\n",
      "lapack_mkl_info:\n",
      "  NOT AVAILABLE\n",
      "openblas_lapack_info:\n",
      "    libraries = ['openblas', 'openblas']\n",
      "    library_dirs = ['/usr/local/lib']\n",
      "    language = c\n",
      "    define_macros = [('HAVE_CBLAS', None)]\n",
      "lapack_opt_info:\n",
      "    libraries = ['openblas', 'openblas']\n",
      "    library_dirs = ['/usr/local/lib']\n",
      "    language = c\n",
      "    define_macros = [('HAVE_CBLAS', None)]\n",
      "None\n"
     ]
    }
   ],
   "source": [
    "print(np.__version__)\n",
    "print(np.show_config())"
   ]
  },
  {
   "cell_type": "markdown",
   "metadata": {},
   "source": [
    "#### 3. Create a null vector of size 10 (★☆☆)"
   ]
  },
  {
   "cell_type": "code",
   "execution_count": 4,
   "metadata": {},
   "outputs": [
    {
     "data": {
      "text/plain": [
       "array([0., 0., 0., 0., 0., 0., 0., 0., 0., 0.])"
      ]
     },
     "execution_count": 4,
     "metadata": {},
     "output_type": "execute_result"
    }
   ],
   "source": [
    "a = np.zeros(10)\n",
    "a"
   ]
  },
  {
   "cell_type": "markdown",
   "metadata": {},
   "source": [
    "#### 4.  How to find the memory size of any array (★☆☆)"
   ]
  },
  {
   "cell_type": "code",
   "execution_count": 19,
   "metadata": {},
   "outputs": [
    {
     "name": "stdout",
     "output_type": "stream",
     "text": [
      "70\n",
      "8\n",
      "560 bytes\n"
     ]
    }
   ],
   "source": [
    "a = np.arange(70).reshape(2,5,7)\n",
    "print(a.size)\n",
    "print(a.itemsize)\n",
    "print(\"%d bytes\"%(a.size * a.itemsize))"
   ]
  },
  {
   "cell_type": "markdown",
   "metadata": {},
   "source": [
    "#### 5.  How to get the documentation of the numpy add function from the command line? (★☆☆)"
   ]
  },
  {
   "cell_type": "code",
   "execution_count": 19,
   "metadata": {},
   "outputs": [
    {
     "name": "stdout",
     "output_type": "stream",
     "text": [
      "Help on ufunc object:\r\n",
      "\r\n",
      "a\bad\bdd\bd = class ufunc(__builtin__.object)\r\n",
      " |  Functions that operate element by element on whole arrays.\r\n",
      " |  \r\n",
      " |  To see the documentation for a specific ufunc, use np.info().  For\r\n",
      " |  example, np.info(np.sin).  Because ufuncs are written in C\r\n",
      " |  (for speed) and linked into Python with NumPy's ufunc facility,\r\n",
      " |  Python's help() function finds this page whenever help() is called\r\n",
      " |  on a ufunc.\r\n",
      " |  \r\n",
      " |  A detailed explanation of ufuncs can be found in the \"ufuncs.rst\"\r\n",
      " |  file in the NumPy reference guide.\r\n",
      " |  \r\n",
      " |  Unary ufuncs:\r\n",
      " |  =============\r\n",
      " |  \r\n",
      " |  op(X, out=None)\r\n",
      " |  Apply op to X elementwise\r\n",
      " |  \r\n",
      " |  Parameters\r\n",
      " |  ----------\r\n",
      " |  X : array_like\r\n",
      " |      Input array.\r\n",
      " |  out : array_like\r\n",
      " |      An array to store the output. Must be the same shape as `X`.\r\n",
      " |  \r\n",
      " |  Returns\r\n",
      " |  -------\r\n",
      " |  r : array_like\r\n",
      " |      `r` will have the same shape as `X`; if out is provided, `r`\r\n",
      " |      will be equal to out.\r\n",
      " |  \r\n",
      " |  Binary ufuncs:\r\n",
      " |  ==============\r\n",
      " |  \r\n",
      " |  op(X, Y, out=None)\r\n",
      " |  Apply `op` to `X` and `Y` elementwise. May \"broadcast\" to make\r\n",
      " |  the shapes of `X` and `Y` congruent.\r\n",
      " |  \r\n",
      " |  The broadcasting rules are:\r\n",
      " |  \r\n",
      " |  * Dimensions of length 1 may be prepended to either array.\r\n",
      " |  * Arrays may be repeated along dimensions of length 1.\r\n",
      " |  \r\n",
      " |  Parameters\r\n",
      " |  ----------\r\n",
      " |  X : array_like\r\n",
      " |      First input array.\r\n",
      " |  Y : array_like\r\n",
      " |      Second input array.\r\n",
      " |  out : array_like\r\n",
      " |      An array to store the output. Must be the same shape as the\r\n",
      " |      output would have.\r\n",
      " |  \r\n",
      " |  Returns\r\n",
      " |  -------\r\n",
      " |  r : array_like\r\n",
      " |      The return value; if out is provided, `r` will be equal to out.\r\n",
      " |  \r\n",
      " |  Methods defined here:\r\n",
      " |  \r\n",
      " |  _\b__\b_c\bca\bal\bll\bl_\b__\b_(...)\r\n",
      " |      x.__call__(...) <==> x(...)\r\n",
      " |  \r\n",
      " |  _\b__\b_r\bre\bep\bpr\br_\b__\b_(...)\r\n",
      " |      x.__repr__() <==> repr(x)\r\n",
      " |  \r\n",
      " |  _\b__\b_s\bst\btr\br_\b__\b_(...)\r\n",
      " |      x.__str__() <==> str(x)\r\n",
      " |  \r\n",
      " |  a\bac\bcc\bcu\bum\bmu\bul\bla\bat\bte\be(...)\r\n",
      " |      accumulate(array, axis=0, dtype=None, out=None)\r\n",
      " |      \r\n",
      " |      Accumulate the result of applying the operator to all elements.\r\n",
      " |      \r\n",
      " |      For a one-dimensional array, accumulate produces results equivalent to::\r\n",
      " |      \r\n",
      " |        r = np.empty(len(A))\r\n",
      " |        t = op.identity        # op = the ufunc being applied to A's  elements\r\n",
      " |        for i in range(len(A)):\r\n",
      " |            t = op(t, A[i])\r\n",
      " |            r[i] = t\r\n",
      " |        return r\r\n",
      " |      \r\n",
      " |      For example, add.accumulate() is equivalent to np.cumsum().\r\n",
      " |      \r\n",
      " |      For a multi-dimensional array, accumulate is applied along only one\r\n",
      " |      axis (axis zero by default; see Examples below) so repeated use is\r\n",
      " |      necessary if one wants to accumulate over multiple axes.\r\n",
      " |      \r\n",
      " |      Parameters\r\n",
      " |      ----------\r\n",
      " |      array : array_like\r\n",
      " |          The array to act on.\r\n",
      " |      axis : int, optional\r\n",
      " |          The axis along which to apply the accumulation; default is zero.\r\n",
      " |      dtype : data-type code, optional\r\n",
      " |          The data-type used to represent the intermediate results. Defaults\r\n",
      " |          to the data-type of the output array if such is provided, or the\r\n",
      " |          the data-type of the input array if no output array is provided.\r\n",
      " |      out : ndarray, optional\r\n",
      " |          A location into which the result is stored. If not provided a\r\n",
      " |          freshly-allocated array is returned.\r\n",
      " |      \r\n",
      " |      Returns\r\n",
      " |      -------\r\n",
      " |      r : ndarray\r\n",
      " |          The accumulated values. If `out` was supplied, `r` is a reference to\r\n",
      " |          `out`.\r\n",
      " |      \r\n",
      " |      Examples\r\n",
      " |      --------\r\n",
      " |      1-D array examples:\r\n",
      " |      \r\n",
      " |      >>> np.add.accumulate([2, 3, 5])\r\n",
      " |      array([ 2,  5, 10])\r\n",
      " |      >>> np.multiply.accumulate([2, 3, 5])\r\n",
      " |      array([ 2,  6, 30])\r\n",
      " |      \r\n",
      " |      2-D array examples:\r\n",
      " |      \r\n",
      " |      >>> I = np.eye(2)\r\n",
      " |      >>> I\r\n",
      " |      array([[ 1.,  0.],\r\n",
      " |             [ 0.,  1.]])\r\n",
      " |      \r\n",
      " |      Accumulate along axis 0 (rows), down columns:\r\n",
      " |      \r\n",
      " |      >>> np.add.accumulate(I, 0)\r\n",
      " |      array([[ 1.,  0.],\r\n",
      " |             [ 1.,  1.]])\r\n",
      " |      >>> np.add.accumulate(I) # no axis specified = axis zero\r\n",
      " |      array([[ 1.,  0.],\r\n",
      " |             [ 1.,  1.]])\r\n",
      " |      \r\n",
      " |      Accumulate along axis 1 (columns), through rows:\r\n",
      " |      \r\n",
      " |      >>> np.add.accumulate(I, 1)\r\n",
      " |      array([[ 1.,  1.],\r\n",
      " |             [ 0.,  1.]])\r\n",
      " |  \r\n",
      " |  a\bat\bt(...)\r\n",
      " |      at(a, indices, b=None)\r\n",
      " |      \r\n",
      " |      Performs unbuffered in place operation on operand 'a' for elements\r\n",
      " |      specified by 'indices'. For addition ufunc, this method is equivalent to\r\n",
      " |      `a[indices] += b`, except that results are accumulated for elements that\r\n",
      " |      are indexed more than once. For example, `a[[0,0]] += 1` will only\r\n",
      " |      increment the first element once because of buffering, whereas\r\n",
      " |      `add.at(a, [0,0], 1)` will increment the first element twice.\r\n",
      " |      \r\n",
      " |      Parameters\r\n",
      " |      ----------\r\n",
      " |      a : array_like\r\n",
      " |          The array to perform in place operation on.\r\n",
      " |      indices : array_like or tuple\r\n",
      " |          Array like index object or slice object for indexing into first\r\n",
      " |          operand. If first operand has multiple dimensions, indices can be a\r\n",
      " |          tuple of array like index objects or slice objects.\r\n",
      " |      b : array_like\r\n",
      " |          Second operand for ufuncs requiring two operands. Operand must be\r\n",
      " |          broadcastable over first operand after indexing or slicing.\r\n",
      " |      \r\n",
      " |      Examples\r\n",
      " |      --------\r\n",
      " |      Set items 0 and 1 to their negative values:\r\n",
      " |      \r\n",
      " |      >>> a = np.array([1, 2, 3, 4])\r\n",
      " |      >>> np.negative.at(a, [0, 1])\r\n",
      " |      >>> print(a)\r\n",
      " |      array([-1, -2, 3, 4])\r\n",
      " |      \r\n",
      " |      ::\r\n",
      " |      \r\n",
      " |      Increment items 0 and 1, and increment item 2 twice:\r\n",
      " |      \r\n",
      " |      >>> a = np.array([1, 2, 3, 4])\r\n",
      " |      >>> np.add.at(a, [0, 1, 2, 2], 1)\r\n",
      " |      >>> print(a)\r\n",
      " |      array([2, 3, 5, 4])\r\n",
      " |      \r\n",
      " |      ::\r\n",
      " |      \r\n",
      " |      Add items 0 and 1 in first array to second array,\r\n",
      " |      and store results in first array:\r\n",
      " |      \r\n",
      " |      >>> a = np.array([1, 2, 3, 4])\r\n",
      " |      >>> b = np.array([1, 2])\r\n",
      " |      >>> np.add.at(a, [0, 1], b)\r\n",
      " |      >>> print(a)\r\n",
      " |      array([2, 4, 3, 4])\r\n",
      " |  \r\n",
      " |  o\bou\but\bte\ber\br(...)\r\n",
      " |      outer(A, B)\r\n",
      " |      \r\n",
      " |      Apply the ufunc `op` to all pairs (a, b) with a in `A` and b in `B`.\r\n",
      " |      \r\n",
      " |      Let ``M = A.ndim``, ``N = B.ndim``. Then the result, `C`, of\r\n",
      " |      ``op.outer(A, B)`` is an array of dimension M + N such that:\r\n",
      " |      \r\n",
      " |      .. math:: C[i_0, ..., i_{M-1}, j_0, ..., j_{N-1}] =\r\n",
      " |         op(A[i_0, ..., i_{M-1}], B[j_0, ..., j_{N-1}])\r\n",
      " |      \r\n",
      " |      For `A` and `B` one-dimensional, this is equivalent to::\r\n",
      " |      \r\n",
      " |        r = empty(len(A),len(B))\r\n",
      " |        for i in range(len(A)):\r\n",
      " |            for j in range(len(B)):\r\n",
      " |                r[i,j] = op(A[i], B[j]) # op = ufunc in question\r\n",
      " |      \r\n",
      " |      Parameters\r\n",
      " |      ----------\r\n",
      " |      A : array_like\r\n",
      " |          First array\r\n",
      " |      B : array_like\r\n",
      " |          Second array\r\n",
      " |      \r\n",
      " |      Returns\r\n",
      " |      -------\r\n",
      " |      r : ndarray\r\n",
      " |          Output array\r\n",
      " |      \r\n",
      " |      See Also\r\n",
      " |      --------\r\n",
      " |      numpy.outer\r\n",
      " |      \r\n",
      " |      Examples\r\n",
      " |      --------\r\n",
      " |      >>> np.multiply.outer([1, 2, 3], [4, 5, 6])\r\n",
      " |      array([[ 4,  5,  6],\r\n",
      " |             [ 8, 10, 12],\r\n",
      " |             [12, 15, 18]])\r\n",
      " |      \r\n",
      " |      A multi-dimensional example:\r\n",
      " |      \r\n",
      " |      >>> A = np.array([[1, 2, 3], [4, 5, 6]])\r\n",
      " |      >>> A.shape\r\n",
      " |      (2, 3)\r\n",
      " |      >>> B = np.array([[1, 2, 3, 4]])\r\n",
      " |      >>> B.shape\r\n",
      " |      (1, 4)\r\n",
      " |      >>> C = np.multiply.outer(A, B)\r\n",
      " |      >>> C.shape; C\r\n",
      " |      (2, 3, 1, 4)\r\n",
      " |      array([[[[ 1,  2,  3,  4]],\r\n",
      " |              [[ 2,  4,  6,  8]],\r\n",
      " |              [[ 3,  6,  9, 12]]],\r\n",
      " |             [[[ 4,  8, 12, 16]],\r\n",
      " |              [[ 5, 10, 15, 20]],\r\n",
      " |              [[ 6, 12, 18, 24]]]])\r\n",
      " |  \r\n",
      " |  r\bre\bed\bdu\buc\bce\be(...)\r\n",
      " |      reduce(a, axis=0, dtype=None, out=None, keepdims=False)\r\n",
      " |      \r\n",
      " |      Reduces `a`'s dimension by one, by applying ufunc along one axis.\r\n",
      " |      \r\n",
      " |      Let :math:`a.shape = (N_0, ..., N_i, ..., N_{M-1})`.  Then\r\n",
      " |      :math:`ufunc.reduce(a, axis=i)[k_0, ..,k_{i-1}, k_{i+1}, .., k_{M-1}]` =\r\n",
      " |      the result of iterating `j` over :math:`range(N_i)`, cumulatively applying\r\n",
      " |      ufunc to each :math:`a[k_0, ..,k_{i-1}, j, k_{i+1}, .., k_{M-1}]`.\r\n",
      " |      For a one-dimensional array, reduce produces results equivalent to:\r\n",
      " |      ::\r\n",
      " |      \r\n",
      " |       r = op.identity # op = ufunc\r\n",
      " |       for i in range(len(A)):\r\n",
      " |         r = op(r, A[i])\r\n",
      " |       return r\r\n",
      " |      \r\n",
      " |      For example, add.reduce() is equivalent to sum().\r\n",
      " |      \r\n",
      " |      Parameters\r\n",
      " |      ----------\r\n",
      " |      a : array_like\r\n",
      " |          The array to act on.\r\n",
      " |      axis : None or int or tuple of ints, optional\r\n",
      " |          Axis or axes along which a reduction is performed.\r\n",
      " |          The default (`axis` = 0) is perform a reduction over the first\r\n",
      " |          dimension of the input array. `axis` may be negative, in\r\n",
      " |          which case it counts from the last to the first axis.\r\n",
      " |      \r\n",
      " |          .. versionadded:: 1.7.0\r\n",
      " |      \r\n",
      " |          If this is `None`, a reduction is performed over all the axes.\r\n",
      " |          If this is a tuple of ints, a reduction is performed on multiple\r\n",
      " |          axes, instead of a single axis or all the axes as before.\r\n",
      " |      \r\n",
      " |          For operations which are either not commutative or not associative,\r\n",
      " |          doing a reduction over multiple axes is not well-defined. The\r\n",
      " |          ufuncs do not currently raise an exception in this case, but will\r\n",
      " |          likely do so in the future.\r\n",
      " |      dtype : data-type code, optional\r\n",
      " |          The type used to represent the intermediate results. Defaults\r\n",
      " |          to the data-type of the output array if this is provided, or\r\n",
      " |          the data-type of the input array if no output array is provided.\r\n",
      " |      out : ndarray, optional\r\n",
      " |          A location into which the result is stored. If not provided, a\r\n",
      " |          freshly-allocated array is returned.\r\n",
      " |      keepdims : bool, optional\r\n",
      " |          If this is set to True, the axes which are reduced are left\r\n",
      " |          in the result as dimensions with size one. With this option,\r\n",
      " |          the result will broadcast correctly against the original `arr`.\r\n",
      " |      \r\n",
      " |      Returns\r\n",
      " |      -------\r\n",
      " |      r : ndarray\r\n",
      " |          The reduced array. If `out` was supplied, `r` is a reference to it.\r\n",
      " |      \r\n",
      " |      Examples\r\n",
      " |      --------\r\n",
      " |      >>> np.multiply.reduce([2,3,5])\r\n",
      " |      30\r\n",
      " |      \r\n",
      " |      A multi-dimensional array example:\r\n",
      " |      \r\n",
      " |      >>> X = np.arange(8).reshape((2,2,2))\r\n",
      " |      >>> X\r\n",
      " |      array([[[0, 1],\r\n",
      " |              [2, 3]],\r\n",
      " |             [[4, 5],\r\n",
      " |              [6, 7]]])\r\n",
      " |      >>> np.add.reduce(X, 0)\r\n",
      " |      array([[ 4,  6],\r\n",
      " |             [ 8, 10]])\r\n",
      " |      >>> np.add.reduce(X) # confirm: default axis value is 0\r\n",
      " |      array([[ 4,  6],\r\n",
      " |             [ 8, 10]])\r\n",
      " |      >>> np.add.reduce(X, 1)\r\n",
      " |      array([[ 2,  4],\r\n",
      " |             [10, 12]])\r\n",
      " |      >>> np.add.reduce(X, 2)\r\n",
      " |      array([[ 1,  5],\r\n",
      " |             [ 9, 13]])\r\n",
      " |  \r\n",
      " |  r\bre\bed\bdu\buc\bce\bea\bat\bt(...)\r\n",
      " |      reduceat(a, indices, axis=0, dtype=None, out=None)\r\n",
      " |      \r\n",
      " |      Performs a (local) reduce with specified slices over a single axis.\r\n",
      " |      \r\n",
      " |      For i in ``range(len(indices))``, `reduceat` computes\r\n",
      " |      ``ufunc.reduce(a[indices[i]:indices[i+1]])``, which becomes the i-th\r\n",
      " |      generalized \"row\" parallel to `axis` in the final result (i.e., in a\r\n",
      " |      2-D array, for example, if `axis = 0`, it becomes the i-th row, but if\r\n",
      " |      `axis = 1`, it becomes the i-th column).  There are two exceptions to this:\r\n",
      " |      \r\n",
      " |        * when ``i = len(indices) - 1`` (so for the last index),\r\n",
      " |          ``indices[i+1] = a.shape[axis]``.\r\n",
      " |        * if ``indices[i] >= indices[i + 1]``, the i-th generalized \"row\" is\r\n",
      " |          simply ``a[indices[i]]``.\r\n",
      " |      \r\n",
      " |      The shape of the output depends on the size of `indices`, and may be\r\n",
      " |      larger than `a` (this happens if ``len(indices) > a.shape[axis]``).\r\n",
      " |      \r\n",
      " |      Parameters\r\n",
      " |      ----------\r\n",
      " |      a : array_like\r\n",
      " |          The array to act on.\r\n",
      " |      indices : array_like\r\n",
      " |          Paired indices, comma separated (not colon), specifying slices to\r\n",
      " |          reduce.\r\n",
      " |      axis : int, optional\r\n",
      " |          The axis along which to apply the reduceat.\r\n",
      " |      dtype : data-type code, optional\r\n",
      " |          The type used to represent the intermediate results. Defaults\r\n",
      " |          to the data type of the output array if this is provided, or\r\n",
      " |          the data type of the input array if no output array is provided.\r\n",
      " |      out : ndarray, optional\r\n",
      " |          A location into which the result is stored. If not provided a\r\n",
      " |          freshly-allocated array is returned.\r\n",
      " |      \r\n",
      " |      Returns\r\n",
      " |      -------\r\n",
      " |      r : ndarray\r\n",
      " |          The reduced values. If `out` was supplied, `r` is a reference to\r\n",
      " |          `out`.\r\n",
      " |      \r\n",
      " |      Notes\r\n",
      " |      -----\r\n",
      " |      A descriptive example:\r\n",
      " |      \r\n",
      " |      If `a` is 1-D, the function `ufunc.accumulate(a)` is the same as\r\n",
      " |      ``ufunc.reduceat(a, indices)[::2]`` where `indices` is\r\n",
      " |      ``range(len(array) - 1)`` with a zero placed\r\n",
      " |      in every other element:\r\n",
      " |      ``indices = zeros(2 * len(a) - 1)``, ``indices[1::2] = range(1, len(a))``.\r\n",
      " |      \r\n",
      " |      Don't be fooled by this attribute's name: `reduceat(a)` is not\r\n",
      " |      necessarily smaller than `a`.\r\n",
      " |      \r\n",
      " |      Examples\r\n",
      " |      --------\r\n",
      " |      To take the running sum of four successive values:\r\n",
      " |      \r\n",
      " |      >>> np.add.reduceat(np.arange(8),[0,4, 1,5, 2,6, 3,7])[::2]\r\n",
      " |      array([ 6, 10, 14, 18])\r\n",
      " |      \r\n",
      " |      A 2-D example:\r\n",
      " |      \r\n",
      " |      >>> x = np.linspace(0, 15, 16).reshape(4,4)\r\n",
      " |      >>> x\r\n",
      " |      array([[  0.,   1.,   2.,   3.],\r\n",
      " |             [  4.,   5.,   6.,   7.],\r\n",
      " |             [  8.,   9.,  10.,  11.],\r\n",
      " |             [ 12.,  13.,  14.,  15.]])\r\n",
      " |      \r\n",
      " |      ::\r\n",
      " |      \r\n",
      " |       # reduce such that the result has the following five rows:\r\n",
      " |       # [row1 + row2 + row3]\r\n",
      " |       # [row4]\r\n",
      " |       # [row2]\r\n",
      " |       # [row3]\r\n",
      " |       # [row1 + row2 + row3 + row4]\r\n",
      " |      \r\n",
      " |      >>> np.add.reduceat(x, [0, 3, 1, 2, 0])\r\n",
      " |      array([[ 12.,  15.,  18.,  21.],\r\n",
      " |             [ 12.,  13.,  14.,  15.],\r\n",
      " |             [  4.,   5.,   6.,   7.],\r\n",
      " |             [  8.,   9.,  10.,  11.],\r\n",
      " |             [ 24.,  28.,  32.,  36.]])\r\n",
      " |      \r\n",
      " |      ::\r\n",
      " |      \r\n",
      " |       # reduce such that result has the following two columns:\r\n",
      " |       # [col1 * col2 * col3, col4]\r\n",
      " |      \r\n",
      " |      >>> np.multiply.reduceat(x, [0, 3], 1)\r\n",
      " |      array([[    0.,     3.],\r\n",
      " |             [  120.,     7.],\r\n",
      " |             [  720.,    11.],\r\n",
      " |             [ 2184.,    15.]])\r\n",
      " |  \r\n",
      " |  ----------------------------------------------------------------------\r\n",
      " |  Data descriptors defined here:\r\n",
      " |  \r\n",
      " |  i\bid\bde\ben\bnt\bti\bit\bty\by\r\n",
      " |      The identity value.\r\n",
      " |      \r\n",
      " |      Data attribute containing the identity element for the ufunc, if it has one.\r\n",
      " |      If it does not, the attribute value is None.\r\n",
      " |      \r\n",
      " |      Examples\r\n",
      " |      --------\r\n",
      " |      >>> np.add.identity\r\n",
      " |      0\r\n",
      " |      >>> np.multiply.identity\r\n",
      " |      1\r\n",
      " |      >>> np.power.identity\r\n",
      " |      1\r\n",
      " |      >>> print np.exp.identity\r\n",
      " |      None\r\n",
      " |  \r\n",
      " |  n\bna\bar\brg\bgs\bs\r\n",
      " |      The number of arguments.\r\n",
      " |      \r\n",
      " |      Data attribute containing the number of arguments the ufunc takes, including\r\n",
      " |      optional ones.\r\n",
      " |      \r\n",
      " |      Notes\r\n",
      " |      -----\r\n",
      " |      Typically this value will be one more than what you might expect because all\r\n",
      " |      ufuncs take  the optional \"out\" argument.\r\n",
      " |      \r\n",
      " |      Examples\r\n",
      " |      --------\r\n",
      " |      >>> np.add.nargs\r\n",
      " |      3\r\n",
      " |      >>> np.multiply.nargs\r\n",
      " |      3\r\n",
      " |      >>> np.power.nargs\r\n",
      " |      3\r\n",
      " |      >>> np.exp.nargs\r\n",
      " |      2\r\n",
      " |  \r\n",
      " |  n\bni\bin\bn\r\n",
      " |      The number of inputs.\r\n",
      " |      \r\n",
      " |      Data attribute containing the number of arguments the ufunc treats as input.\r\n",
      " |      \r\n",
      " |      Examples\r\n",
      " |      --------\r\n",
      " |      >>> np.add.nin\r\n",
      " |      2\r\n",
      " |      >>> np.multiply.nin\r\n",
      " |      2\r\n",
      " |      >>> np.power.nin\r\n",
      " |      2\r\n",
      " |      >>> np.exp.nin\r\n",
      " |      1\r\n",
      " |  \r\n",
      " |  n\bno\bou\but\bt\r\n",
      " |      The number of outputs.\r\n",
      " |      \r\n",
      " |      Data attribute containing the number of arguments the ufunc treats as output.\r\n",
      " |      \r\n",
      " |      Notes\r\n",
      " |      -----\r\n",
      " |      Since all ufuncs can take output arguments, this will always be (at least) 1.\r\n",
      " |      \r\n",
      " |      Examples\r\n",
      " |      --------\r\n",
      " |      >>> np.add.nout\r\n",
      " |      1\r\n",
      " |      >>> np.multiply.nout\r\n",
      " |      1\r\n",
      " |      >>> np.power.nout\r\n",
      " |      1\r\n",
      " |      >>> np.exp.nout\r\n",
      " |      1\r\n",
      " |  \r\n",
      " |  n\bnt\bty\byp\bpe\bes\bs\r\n",
      " |      The number of types.\r\n",
      " |      \r\n",
      " |      The number of numerical NumPy types - of which there are 18 total - on which\r\n",
      " |      the ufunc can operate.\r\n",
      " |      \r\n",
      " |      See Also\r\n",
      " |      --------\r\n",
      " |      numpy.ufunc.types\r\n",
      " |      \r\n",
      " |      Examples\r\n",
      " |      --------\r\n",
      " |      >>> np.add.ntypes\r\n",
      " |      18\r\n",
      " |      >>> np.multiply.ntypes\r\n",
      " |      18\r\n",
      " |      >>> np.power.ntypes\r\n",
      " |      17\r\n",
      " |      >>> np.exp.ntypes\r\n",
      " |      7\r\n",
      " |      >>> np.remainder.ntypes\r\n",
      " |      14\r\n",
      " |  \r\n",
      " |  s\bsi\big\bgn\bna\bat\btu\bur\bre\be\r\n",
      " |  \r\n",
      " |  t\bty\byp\bpe\bes\bs\r\n",
      " |      Returns a list with types grouped input->output.\r\n",
      " |      \r\n",
      " |      Data attribute listing the data-type \"Domain-Range\" groupings the ufunc can\r\n",
      " |      deliver. The data-types are given using the character codes.\r\n",
      " |      \r\n",
      " |      See Also\r\n",
      " |      --------\r\n",
      " |      numpy.ufunc.ntypes\r\n",
      " |      \r\n",
      " |      Examples\r\n",
      " |      --------\r\n",
      " |      >>> np.add.types\r\n",
      " |      ['??->?', 'bb->b', 'BB->B', 'hh->h', 'HH->H', 'ii->i', 'II->I', 'll->l',\r\n",
      " |      'LL->L', 'qq->q', 'QQ->Q', 'ff->f', 'dd->d', 'gg->g', 'FF->F', 'DD->D',\r\n",
      " |      'GG->G', 'OO->O']\r\n",
      " |      \r\n",
      " |      >>> np.multiply.types\r\n",
      " |      ['??->?', 'bb->b', 'BB->B', 'hh->h', 'HH->H', 'ii->i', 'II->I', 'll->l',\r\n",
      " |      'LL->L', 'qq->q', 'QQ->Q', 'ff->f', 'dd->d', 'gg->g', 'FF->F', 'DD->D',\r\n",
      " |      'GG->G', 'OO->O']\r\n",
      " |      \r\n",
      " |      >>> np.power.types\r\n",
      " |      ['bb->b', 'BB->B', 'hh->h', 'HH->H', 'ii->i', 'II->I', 'll->l', 'LL->L',\r\n",
      " |      'qq->q', 'QQ->Q', 'ff->f', 'dd->d', 'gg->g', 'FF->F', 'DD->D', 'GG->G',\r\n",
      " |      'OO->O']\r\n",
      " |      \r\n",
      " |      >>> np.exp.types\r\n",
      " |      ['f->f', 'd->d', 'g->g', 'F->F', 'D->D', 'G->G', 'O->O']\r\n",
      " |      \r\n",
      " |      >>> np.remainder.types\r\n",
      " |      ['bb->b', 'BB->B', 'hh->h', 'HH->H', 'ii->i', 'II->I', 'll->l', 'LL->L',\r\n",
      " |      'qq->q', 'QQ->Q', 'ff->f', 'dd->d', 'gg->g', 'OO->O']\r\n",
      "\r\n"
     ]
    }
   ],
   "source": [
    " !python -c \"import numpy as np; help(np.add)\""
   ]
  },
  {
   "cell_type": "markdown",
   "metadata": {},
   "source": [
    "#### 6.  Create a null vector of size 10 but the fifth value which is 1 (★☆☆)"
   ]
  },
  {
   "cell_type": "code",
   "execution_count": 11,
   "metadata": {},
   "outputs": [
    {
     "data": {
      "text/plain": [
       "array([0., 0., 0., 0., 1., 0., 0., 0., 0., 0.])"
      ]
     },
     "execution_count": 11,
     "metadata": {},
     "output_type": "execute_result"
    }
   ],
   "source": [
    "a = np.zeros(10)\n",
    "a[4] = 1\n",
    "a"
   ]
  },
  {
   "cell_type": "markdown",
   "metadata": {},
   "source": [
    "#### 7.  Create a vector with values ranging from 10 to 49 (★☆☆)"
   ]
  },
  {
   "cell_type": "code",
   "execution_count": 22,
   "metadata": {},
   "outputs": [
    {
     "data": {
      "text/plain": [
       "array([10, 11, 12, 13, 14, 15, 16, 17, 18, 19, 20, 21, 22, 23, 24, 25, 26,\n",
       "       27, 28, 29, 30, 31, 32, 33, 34, 35, 36, 37, 38, 39, 40, 41, 42, 43,\n",
       "       44, 45, 46, 47, 48, 49])"
      ]
     },
     "execution_count": 22,
     "metadata": {},
     "output_type": "execute_result"
    }
   ],
   "source": [
    "import numpy as np\n",
    "a = np.arange(10,50)\n",
    "a"
   ]
  },
  {
   "cell_type": "markdown",
   "metadata": {},
   "source": [
    "#### 8.  Reverse a vector (first element becomes last) (★☆☆)"
   ]
  },
  {
   "cell_type": "code",
   "execution_count": 59,
   "metadata": {},
   "outputs": [
    {
     "data": {
      "text/plain": [
       "array([-6, -5, 10,  9,  5,  2])"
      ]
     },
     "execution_count": 59,
     "metadata": {},
     "output_type": "execute_result"
    }
   ],
   "source": [
    "a = np.array([2,5,9,10,-5,-6])\n",
    "b = a[::-1]\n",
    "b"
   ]
  },
  {
   "cell_type": "markdown",
   "metadata": {},
   "source": [
    "#### 9.  Create a 3x3 matrix with values ranging from 0 to 8 (★☆☆)"
   ]
  },
  {
   "cell_type": "code",
   "execution_count": 44,
   "metadata": {},
   "outputs": [
    {
     "data": {
      "text/plain": [
       "array([[0, 1, 2],\n",
       "       [3, 4, 5],\n",
       "       [6, 7, 8]])"
      ]
     },
     "execution_count": 44,
     "metadata": {},
     "output_type": "execute_result"
    }
   ],
   "source": [
    "np.arange(9).reshape(3,3)"
   ]
  },
  {
   "cell_type": "markdown",
   "metadata": {},
   "source": [
    "#### 10. Find indices of non-zero elements from \\[1,2,0,0,4,0\\] (★☆☆)"
   ]
  },
  {
   "cell_type": "code",
   "execution_count": 50,
   "metadata": {},
   "outputs": [
    {
     "name": "stdout",
     "output_type": "stream",
     "text": [
      "0\n",
      "1\n",
      "4\n"
     ]
    },
    {
     "data": {
      "text/plain": [
       "(array([0, 1, 4]),)"
      ]
     },
     "execution_count": 50,
     "metadata": {},
     "output_type": "execute_result"
    }
   ],
   "source": [
    "a = np.array([1,2,0,0,4,0])\n",
    "for x in range(0,len(a)-1): \n",
    "    if a[x]!=0:\n",
    "        print(x)\n",
    "        \n",
    "\n",
    "nz = np.nonzero([1,2,0,0,4,0])\n",
    "nz"
   ]
  },
  {
   "cell_type": "markdown",
   "metadata": {},
   "source": [
    "#### 11. Create a 3x3 identity matrix (★☆☆)"
   ]
  },
  {
   "cell_type": "code",
   "execution_count": 57,
   "metadata": {},
   "outputs": [
    {
     "name": "stdout",
     "output_type": "stream",
     "text": [
      "[[1. 0. 0.]\n",
      " [0. 1. 0.]\n",
      " [0. 0. 1.]]\n",
      "[[1. 0. 0.]\n",
      " [0. 1. 0.]\n",
      " [0. 0. 1.]]\n"
     ]
    }
   ],
   "source": [
    "I = np.zeros(9).reshape(3,3)\n",
    "for col in range(0,3):\n",
    "    I[col,col] = 1\n",
    "print(I)\n",
    "\n",
    "Z = np.eye(3)\n",
    "print(Z)"
   ]
  },
  {
   "cell_type": "markdown",
   "metadata": {},
   "source": [
    "#### 12. Create a 3x3x3 array with random values (★☆☆)"
   ]
  },
  {
   "cell_type": "code",
   "execution_count": 58,
   "metadata": {},
   "outputs": [
    {
     "data": {
      "text/plain": [
       "array([[[0.92904512, 0.13819591, 0.92681436],\n",
       "        [0.37102648, 0.68258682, 0.04521233],\n",
       "        [0.56383913, 0.61448184, 0.95069129]],\n",
       "\n",
       "       [[0.99908741, 0.17486297, 0.25185561],\n",
       "        [0.48843336, 0.90230023, 0.91901981],\n",
       "        [0.77427798, 0.23193223, 0.58863639]],\n",
       "\n",
       "       [[0.91137497, 0.20409672, 0.14187672],\n",
       "        [0.52230875, 0.05526347, 0.79678107],\n",
       "        [0.93460809, 0.84880442, 0.35881227]]])"
      ]
     },
     "execution_count": 58,
     "metadata": {},
     "output_type": "execute_result"
    }
   ],
   "source": [
    "np.random.rand(3,3,3)"
   ]
  },
  {
   "cell_type": "markdown",
   "metadata": {},
   "source": [
    "#### 13. Create a 10x10 array with random values and find the minimum and maximum values (★☆☆)"
   ]
  },
  {
   "cell_type": "code",
   "execution_count": 83,
   "metadata": {},
   "outputs": [
    {
     "name": "stdout",
     "output_type": "stream",
     "text": [
      "0.011753363460161204\n",
      "0.9994061316543167\n",
      "0.011753363460161204 0.9994061316543167\n"
     ]
    }
   ],
   "source": [
    "a = np.random.rand(10,10)\n",
    "#print(a)\n",
    "print(np.amin(a))\n",
    "print(np.amax(a))\n",
    "\n",
    "a_min, a_max = a.min(), a.max()\n",
    "print(a.min(), a.max())"
   ]
  },
  {
   "cell_type": "markdown",
   "metadata": {},
   "source": [
    "#### 14. Create a random vector of size 30 and find the mean value (★☆☆)"
   ]
  },
  {
   "cell_type": "code",
   "execution_count": 85,
   "metadata": {},
   "outputs": [
    {
     "name": "stdout",
     "output_type": "stream",
     "text": [
      "0.5303577665778997\n",
      "0.5303577665778997\n"
     ]
    }
   ],
   "source": [
    "a = np.random.rand(30)\n",
    "mean_a = np.sum(a)/a.size\n",
    "print(mean_a)\n",
    "print(a.mean())"
   ]
  },
  {
   "cell_type": "markdown",
   "metadata": {},
   "source": [
    "#### 15. Create a 2d array with 1 on the border and 0 inside (★☆☆)"
   ]
  },
  {
   "cell_type": "code",
   "execution_count": 22,
   "metadata": {},
   "outputs": [
    {
     "name": "stdout",
     "output_type": "stream",
     "text": [
      "[[1. 1. 1. 1. 1.]\n",
      " [1. 0. 0. 0. 1.]\n",
      " [1. 0. 0. 0. 1.]\n",
      " [1. 0. 0. 0. 1.]\n",
      " [1. 1. 1. 1. 1.]]\n"
     ]
    }
   ],
   "source": [
    "import numpy as np\n",
    "a = np.zeros(25).reshape(5,5)\n",
    "\n",
    "a.shape\n",
    "(row, col)=a.shape\n",
    "for i in [0,row-1]:\n",
    "    for j in range(col):\n",
    "       a[i,j] = 1\n",
    "for j in [0,col-1]:\n",
    "    for i in range(row):\n",
    "       a[i,j] = 1\n",
    "\n",
    "print(a)        \n",
    "\n",
    "###or\n",
    "\n"
   ]
  },
  {
   "cell_type": "markdown",
   "metadata": {},
   "source": [
    "#### 16. How to add a border (filled with 0's) around an existing array? (★☆☆)"
   ]
  },
  {
   "cell_type": "code",
   "execution_count": 13,
   "metadata": {},
   "outputs": [
    {
     "data": {
      "text/plain": [
       "array([[ 0.,  0.,  0.,  0.,  0.,  0.,  0.],\n",
       "       [ 0.,  0.,  1.,  2.,  3.,  4.,  0.],\n",
       "       [ 0.,  5.,  6.,  7.,  8.,  9.,  0.],\n",
       "       [ 0., 10., 11., 12., 13., 14.,  0.],\n",
       "       [ 0., 15., 16., 17., 18., 19.,  0.],\n",
       "       [ 0.,  0.,  0.,  0.,  0.,  0.,  0.]])"
      ]
     },
     "execution_count": 13,
     "metadata": {},
     "output_type": "execute_result"
    }
   ],
   "source": [
    "import numpy as np\n",
    "a = np.arange(20).reshape(4,5)\n",
    "row, col = a.shape\n",
    "b = np.zeros(row).reshape(row,1)\n",
    "z = np.concatenate((b,a,b), axis = 1)\n",
    "c = np.zeros(col+2).reshape(1,col+2)\n",
    "z = np.concatenate((c,z,c),axis = 0)\n",
    "z"
   ]
  },
  {
   "cell_type": "markdown",
   "metadata": {},
   "source": [
    "#### 17. What is the result of the following expression? (★☆☆)"
   ]
  },
  {
   "cell_type": "markdown",
   "metadata": {},
   "source": [
    "```python\n",
    "0 * np.nan\n",
    "np.nan == np.nan\n",
    "np.inf > np.nan\n",
    "np.nan - np.nan\n",
    "np.nan in set([np.nan])\n",
    "0.3 == 3 * 0.1\n",
    "```"
   ]
  },
  {
   "cell_type": "code",
   "execution_count": 21,
   "metadata": {},
   "outputs": [
    {
     "name": "stdout",
     "output_type": "stream",
     "text": [
      "nan\n",
      "False\n",
      "False\n",
      "nan\n",
      "True\n",
      "False\n",
      "0.30000000000000004\n"
     ]
    }
   ],
   "source": [
    "print(0*np.nan)\n",
    "print(np.nan==np.nan)\n",
    "print(np.inf>np.nan)\n",
    "print(np.nan-np.nan)\n",
    "print(np.nan in set([np.nan]))\n",
    "print(0.3==(3.0*0.1))\n",
    "print(3.0*0.1)\n"
   ]
  },
  {
   "cell_type": "markdown",
   "metadata": {},
   "source": [
    "#### 18. Create a 5x5 matrix with values 1,2,3,4 just below the diagonal (★☆☆)"
   ]
  },
  {
   "cell_type": "code",
   "execution_count": 15,
   "metadata": {},
   "outputs": [
    {
     "data": {
      "text/plain": [
       "array([[0., 0., 0., 0., 0.],\n",
       "       [1., 0., 0., 0., 0.],\n",
       "       [0., 2., 0., 0., 0.],\n",
       "       [0., 0., 3., 0., 0.],\n",
       "       [0., 0., 0., 4., 0.]])"
      ]
     },
     "execution_count": 15,
     "metadata": {},
     "output_type": "execute_result"
    }
   ],
   "source": [
    " a = np.zeros(25).reshape(5,5)\n",
    "row,col = a.shape\n",
    "for i in range(col-1):\n",
    "    a[i+1,i] = i+1\n",
    "a\n",
    "    "
   ]
  },
  {
   "cell_type": "markdown",
   "metadata": {},
   "source": [
    "#### 19. Create a 8x8 matrix and fill it with a checkerboard pattern (★☆☆)"
   ]
  },
  {
   "cell_type": "code",
   "execution_count": 34,
   "metadata": {},
   "outputs": [
    {
     "data": {
      "text/plain": [
       "array([[0., 1., 0., 1., 0., 1., 0., 1.],\n",
       "       [0., 0., 0., 0., 0., 0., 0., 0.],\n",
       "       [0., 1., 0., 1., 0., 1., 0., 1.],\n",
       "       [0., 0., 0., 0., 0., 0., 0., 0.],\n",
       "       [0., 1., 0., 1., 0., 1., 0., 1.],\n",
       "       [0., 0., 0., 0., 0., 0., 0., 0.],\n",
       "       [0., 1., 0., 1., 0., 1., 0., 1.],\n",
       "       [0., 0., 0., 0., 0., 0., 0., 0.]])"
      ]
     },
     "execution_count": 34,
     "metadata": {},
     "output_type": "execute_result"
    }
   ],
   "source": [
    "a = np.zeros(64).reshape(8,8)\n",
    "#put 1's in rows alternatively every 2nd column  starting from row 1\n",
    "a[1::2,::2] = 1\n",
    "a[::2,1::2]=1\n",
    "a"
   ]
  },
  {
   "cell_type": "markdown",
   "metadata": {},
   "source": [
    "#### 20. Consider a (6,7,8) shape array, what is the index (x,y,z) of the 100th element?"
   ]
  },
  {
   "cell_type": "code",
   "execution_count": 35,
   "metadata": {},
   "outputs": [
    {
     "name": "stdout",
     "output_type": "stream",
     "text": [
      "(1, 5, 3)\n"
     ]
    }
   ],
   "source": [
    "print(np.unravel_index(99,(6,7,8)))"
   ]
  },
  {
   "cell_type": "markdown",
   "metadata": {},
   "source": [
    "#### 21. Create a checkerboard 8x8 matrix using the tile function (★☆☆)"
   ]
  },
  {
   "cell_type": "code",
   "execution_count": 38,
   "metadata": {},
   "outputs": [
    {
     "data": {
      "text/plain": [
       "array([[0, 1, 0, 1, 0, 1, 0, 1],\n",
       "       [1, 0, 1, 0, 1, 0, 1, 0],\n",
       "       [0, 1, 0, 1, 0, 1, 0, 1],\n",
       "       [1, 0, 1, 0, 1, 0, 1, 0],\n",
       "       [0, 1, 0, 1, 0, 1, 0, 1],\n",
       "       [1, 0, 1, 0, 1, 0, 1, 0],\n",
       "       [0, 1, 0, 1, 0, 1, 0, 1],\n",
       "       [1, 0, 1, 0, 1, 0, 1, 0]])"
      ]
     },
     "execution_count": 38,
     "metadata": {},
     "output_type": "execute_result"
    }
   ],
   "source": [
    "a = np.array([[0,1],[1,0]])\n",
    "b = np.tile(a,[4,4])\n",
    "b"
   ]
  },
  {
   "cell_type": "markdown",
   "metadata": {},
   "source": [
    "#### 22. Normalize a 5x5 random matrix (★☆☆)"
   ]
  },
  {
   "cell_type": "code",
   "execution_count": 42,
   "metadata": {},
   "outputs": [
    {
     "data": {
      "text/plain": [
       "array([[ 1.51200847,  0.70682253, -1.5815394 , -0.05061828,  0.50894258],\n",
       "       [ 0.90592761,  1.60143818, -1.24403849,  0.21170233,  1.23104252],\n",
       "       [-1.78954589,  0.93270728,  0.38344138,  1.26697314, -0.80378256],\n",
       "       [-1.25388257,  1.08799666, -0.75389354, -0.76590224, -1.38709777],\n",
       "       [ 0.0375589 , -0.7976503 , -0.0536754 ,  0.10839171, -0.01332685]])"
      ]
     },
     "execution_count": 42,
     "metadata": {},
     "output_type": "execute_result"
    }
   ],
   "source": [
    "a = np.random.random((5,5))\n",
    "b = (a-np.mean(a))/np.std(a)\n",
    "b"
   ]
  },
  {
   "cell_type": "markdown",
   "metadata": {},
   "source": [
    "#### 23. Create a custom dtype that describes a color as four unsigned bytes (RGBA) (★☆☆)"
   ]
  },
  {
   "cell_type": "code",
   "execution_count": 20,
   "metadata": {},
   "outputs": [],
   "source": [
    "color = np.dtype([(\"r\",np.uint8),(\"g\",np.uint8),(\"b\", np.uint8),(\"a\",np.uint8)])"
   ]
  },
  {
   "cell_type": "markdown",
   "metadata": {},
   "source": [
    "#### 24. Multiply a 5x3 matrix by a 3x2 matrix (real matrix product) (★☆☆)"
   ]
  },
  {
   "cell_type": "code",
   "execution_count": 3,
   "metadata": {},
   "outputs": [
    {
     "name": "stdout",
     "output_type": "stream",
     "text": [
      "[[ 10  13]\n",
      " [ 28  40]\n",
      " [ 46  67]\n",
      " [ 64  94]\n",
      " [ 82 121]]\n"
     ]
    }
   ],
   "source": [
    "import numpy as np\n",
    "a = np.arange(15).reshape(5,3)\n",
    "b = np.arange(6).reshape(3,2)\n",
    "c = np.dot(a,b)\n",
    "print(c)\n",
    "\n",
    "\n"
   ]
  },
  {
   "cell_type": "markdown",
   "metadata": {},
   "source": [
    "#### 25. Given a 1D array, negate all elements which are between 3 and 8, in place. (★☆☆)"
   ]
  },
  {
   "cell_type": "code",
   "execution_count": 17,
   "metadata": {},
   "outputs": [
    {
     "data": {
      "text/plain": [
       "array([ 0,  1,  2,  3, -4, -5, -6, -7,  8,  9, 10, 11])"
      ]
     },
     "execution_count": 17,
     "metadata": {},
     "output_type": "execute_result"
    }
   ],
   "source": [
    "a = np.arange(12)\n",
    "a[(a>3) & (a < 8)] = -a[(a>3) & (a < 8)]\n",
    "a\n",
    "#or \n",
    "a[(a>3) & (a < 8)] *= -1\n",
    "a\n",
    "\n"
   ]
  },
  {
   "cell_type": "markdown",
   "metadata": {},
   "source": [
    "#### 26. What is the output of the following script? (★☆☆)"
   ]
  },
  {
   "cell_type": "markdown",
   "metadata": {},
   "source": [
    "```python\n",
    "# Author: Jake VanderPlas\n",
    "\n",
    "print(sum(range(5),-1))\n",
    "from numpy import *\n",
    "print(sum(range(5),-1))\n",
    "```"
   ]
  },
  {
   "cell_type": "code",
   "execution_count": null,
   "metadata": {},
   "outputs": [],
   "source": []
  },
  {
   "cell_type": "markdown",
   "metadata": {},
   "source": [
    "#### 27. Consider an integer vector Z, which of these expressions are legal? (★☆☆)"
   ]
  },
  {
   "cell_type": "markdown",
   "metadata": {},
   "source": [
    "```python\n",
    "Z**Z\n",
    "2 << Z >> 2\n",
    "Z <- Z\n",
    "1j*Z\n",
    "Z/1/1\n",
    "Z<Z>Z\n",
    "```"
   ]
  },
  {
   "cell_type": "code",
   "execution_count": null,
   "metadata": {},
   "outputs": [],
   "source": []
  },
  {
   "cell_type": "markdown",
   "metadata": {},
   "source": [
    "#### 28. What are the result of the following expressions?"
   ]
  },
  {
   "cell_type": "markdown",
   "metadata": {},
   "source": [
    "```python\n",
    "np.array(0) / np.array(0)\n",
    "np.array(0) // np.array(0)\n",
    "np.array([np.nan]).astype(int).astype(float)\n",
    "```"
   ]
  },
  {
   "cell_type": "code",
   "execution_count": null,
   "metadata": {},
   "outputs": [],
   "source": []
  },
  {
   "cell_type": "markdown",
   "metadata": {},
   "source": [
    "#### 29. How to round away from zero a float array ? (★☆☆)"
   ]
  },
  {
   "cell_type": "code",
   "execution_count": null,
   "metadata": {},
   "outputs": [],
   "source": []
  },
  {
   "cell_type": "markdown",
   "metadata": {},
   "source": [
    "#### 30. How to find common values between two arrays? (★☆☆)"
   ]
  },
  {
   "cell_type": "code",
   "execution_count": null,
   "metadata": {},
   "outputs": [],
   "source": []
  },
  {
   "cell_type": "markdown",
   "metadata": {},
   "source": [
    "#### 31. How to ignore all numpy warnings (not recommended)? (★☆☆)"
   ]
  },
  {
   "cell_type": "code",
   "execution_count": null,
   "metadata": {},
   "outputs": [],
   "source": []
  },
  {
   "cell_type": "markdown",
   "metadata": {},
   "source": [
    "#### 32. Is the following expressions true? (★☆☆)"
   ]
  },
  {
   "cell_type": "markdown",
   "metadata": {},
   "source": [
    "```python\n",
    "np.sqrt(-1) == np.emath.sqrt(-1)\n",
    "```"
   ]
  },
  {
   "cell_type": "code",
   "execution_count": null,
   "metadata": {},
   "outputs": [],
   "source": []
  },
  {
   "cell_type": "markdown",
   "metadata": {},
   "source": [
    "#### 33. How to get the dates of yesterday, today and tomorrow? (★☆☆)"
   ]
  },
  {
   "cell_type": "code",
   "execution_count": null,
   "metadata": {},
   "outputs": [],
   "source": []
  },
  {
   "cell_type": "markdown",
   "metadata": {},
   "source": [
    "#### 34. How to get all the dates corresponding to the month of July 2016? (★★☆)"
   ]
  },
  {
   "cell_type": "code",
   "execution_count": null,
   "metadata": {},
   "outputs": [],
   "source": []
  },
  {
   "cell_type": "markdown",
   "metadata": {},
   "source": [
    "#### 35. How to compute ((A+B)\\*(-A/2)) in place (without copy)? (★★☆)"
   ]
  },
  {
   "cell_type": "code",
   "execution_count": null,
   "metadata": {},
   "outputs": [],
   "source": []
  },
  {
   "cell_type": "markdown",
   "metadata": {},
   "source": [
    "#### 36. Extract the integer part of a random array using 5 different methods (★★☆)"
   ]
  },
  {
   "cell_type": "code",
   "execution_count": null,
   "metadata": {},
   "outputs": [],
   "source": []
  },
  {
   "cell_type": "markdown",
   "metadata": {},
   "source": [
    "#### 37. Create a 5x5 matrix with row values ranging from 0 to 4 (★★☆)"
   ]
  },
  {
   "cell_type": "code",
   "execution_count": null,
   "metadata": {},
   "outputs": [],
   "source": []
  },
  {
   "cell_type": "markdown",
   "metadata": {},
   "source": [
    "#### 38. Consider a generator function that generates 10 integers and use it to build an array (★☆☆)"
   ]
  },
  {
   "cell_type": "code",
   "execution_count": null,
   "metadata": {},
   "outputs": [],
   "source": []
  },
  {
   "cell_type": "markdown",
   "metadata": {},
   "source": [
    "#### 39. Create a vector of size 10 with values ranging from 0 to 1, both excluded (★★☆)"
   ]
  },
  {
   "cell_type": "code",
   "execution_count": null,
   "metadata": {},
   "outputs": [],
   "source": []
  },
  {
   "cell_type": "markdown",
   "metadata": {},
   "source": [
    "#### 40. Create a random vector of size 10 and sort it (★★☆)"
   ]
  },
  {
   "cell_type": "code",
   "execution_count": null,
   "metadata": {},
   "outputs": [],
   "source": []
  },
  {
   "cell_type": "markdown",
   "metadata": {},
   "source": [
    "#### 41. How to sum a small array faster than np.sum? (★★☆)"
   ]
  },
  {
   "cell_type": "code",
   "execution_count": null,
   "metadata": {},
   "outputs": [],
   "source": []
  },
  {
   "cell_type": "markdown",
   "metadata": {},
   "source": [
    "#### 42. Consider two random array A and B, check if they are equal (★★☆)"
   ]
  },
  {
   "cell_type": "code",
   "execution_count": null,
   "metadata": {},
   "outputs": [],
   "source": []
  },
  {
   "cell_type": "markdown",
   "metadata": {},
   "source": [
    "#### 43. Make an array immutable (read-only) (★★☆)"
   ]
  },
  {
   "cell_type": "code",
   "execution_count": null,
   "metadata": {},
   "outputs": [],
   "source": []
  },
  {
   "cell_type": "markdown",
   "metadata": {},
   "source": [
    "#### 44. Consider a random 10x2 matrix representing cartesian coordinates, convert them to polar coordinates (★★☆)"
   ]
  },
  {
   "cell_type": "code",
   "execution_count": null,
   "metadata": {},
   "outputs": [],
   "source": []
  },
  {
   "cell_type": "markdown",
   "metadata": {},
   "source": [
    "#### 45. Create random vector of size 10 and replace the maximum value by 0 (★★☆)"
   ]
  },
  {
   "cell_type": "code",
   "execution_count": null,
   "metadata": {},
   "outputs": [],
   "source": []
  },
  {
   "cell_type": "markdown",
   "metadata": {},
   "source": [
    "#### 46. Create a structured array with `x` and `y` coordinates covering the \\[0,1\\]x\\[0,1\\] area (★★☆)"
   ]
  },
  {
   "cell_type": "code",
   "execution_count": null,
   "metadata": {},
   "outputs": [],
   "source": []
  },
  {
   "cell_type": "markdown",
   "metadata": {},
   "source": [
    "####  47. Given two arrays, X and Y, construct the Cauchy matrix C (Cij =1/(xi - yj))"
   ]
  },
  {
   "cell_type": "code",
   "execution_count": null,
   "metadata": {},
   "outputs": [],
   "source": []
  },
  {
   "cell_type": "markdown",
   "metadata": {},
   "source": [
    "#### 48. Print the minimum and maximum representable value for each numpy scalar type (★★☆)"
   ]
  },
  {
   "cell_type": "code",
   "execution_count": null,
   "metadata": {},
   "outputs": [],
   "source": []
  },
  {
   "cell_type": "markdown",
   "metadata": {},
   "source": [
    "#### 49. How to print all the values of an array? (★★☆)"
   ]
  },
  {
   "cell_type": "code",
   "execution_count": null,
   "metadata": {},
   "outputs": [],
   "source": []
  },
  {
   "cell_type": "markdown",
   "metadata": {},
   "source": [
    "#### 50. How to find the closest value (to a given scalar) in a vector? (★★☆)"
   ]
  },
  {
   "cell_type": "code",
   "execution_count": null,
   "metadata": {},
   "outputs": [],
   "source": []
  },
  {
   "cell_type": "markdown",
   "metadata": {},
   "source": [
    "#### 51. Create a structured array representing a position (x,y) and a color (r,g,b) (★★☆)"
   ]
  },
  {
   "cell_type": "code",
   "execution_count": null,
   "metadata": {},
   "outputs": [],
   "source": []
  },
  {
   "cell_type": "markdown",
   "metadata": {},
   "source": [
    "#### 52. Consider a random vector with shape (100,2) representing coordinates, find point by point distances (★★☆)"
   ]
  },
  {
   "cell_type": "code",
   "execution_count": null,
   "metadata": {},
   "outputs": [],
   "source": []
  },
  {
   "cell_type": "markdown",
   "metadata": {},
   "source": [
    "#### 53. How to convert a float (32 bits) array into an integer (32 bits) in place?"
   ]
  },
  {
   "cell_type": "code",
   "execution_count": null,
   "metadata": {},
   "outputs": [],
   "source": []
  },
  {
   "cell_type": "markdown",
   "metadata": {},
   "source": [
    "#### 54. How to read the following file? (★★☆)"
   ]
  },
  {
   "cell_type": "markdown",
   "metadata": {},
   "source": [
    "```\n",
    "1, 2, 3, 4, 5\n",
    "6,  ,  , 7, 8\n",
    " ,  , 9,10,11\n",
    "```"
   ]
  },
  {
   "cell_type": "code",
   "execution_count": null,
   "metadata": {},
   "outputs": [],
   "source": []
  },
  {
   "cell_type": "markdown",
   "metadata": {},
   "source": [
    "#### 55. What is the equivalent of enumerate for numpy arrays? (★★☆)"
   ]
  },
  {
   "cell_type": "code",
   "execution_count": null,
   "metadata": {},
   "outputs": [],
   "source": []
  },
  {
   "cell_type": "markdown",
   "metadata": {},
   "source": [
    "#### 56. Generate a generic 2D Gaussian-like array (★★☆)"
   ]
  },
  {
   "cell_type": "code",
   "execution_count": null,
   "metadata": {},
   "outputs": [],
   "source": []
  },
  {
   "cell_type": "markdown",
   "metadata": {},
   "source": [
    "#### 57. How to randomly place p elements in a 2D array? (★★☆)"
   ]
  },
  {
   "cell_type": "code",
   "execution_count": null,
   "metadata": {},
   "outputs": [],
   "source": []
  },
  {
   "cell_type": "markdown",
   "metadata": {},
   "source": [
    "#### 58. Subtract the mean of each row of a matrix (★★☆)"
   ]
  },
  {
   "cell_type": "code",
   "execution_count": null,
   "metadata": {},
   "outputs": [],
   "source": []
  },
  {
   "cell_type": "markdown",
   "metadata": {},
   "source": [
    "#### 59. How to sort an array by the nth column? (★★☆)"
   ]
  },
  {
   "cell_type": "code",
   "execution_count": null,
   "metadata": {},
   "outputs": [],
   "source": []
  },
  {
   "cell_type": "markdown",
   "metadata": {},
   "source": [
    "#### 60. How to tell if a given 2D array has null columns? (★★☆)"
   ]
  },
  {
   "cell_type": "code",
   "execution_count": null,
   "metadata": {},
   "outputs": [],
   "source": []
  },
  {
   "cell_type": "markdown",
   "metadata": {},
   "source": [
    "#### 61. Find the nearest value from a given value in an array (★★☆)"
   ]
  },
  {
   "cell_type": "code",
   "execution_count": null,
   "metadata": {},
   "outputs": [],
   "source": []
  },
  {
   "cell_type": "markdown",
   "metadata": {},
   "source": [
    "#### 62. Considering two arrays with shape (1,3) and (3,1), how to compute their sum using an iterator? (★★☆)"
   ]
  },
  {
   "cell_type": "code",
   "execution_count": null,
   "metadata": {},
   "outputs": [],
   "source": []
  },
  {
   "cell_type": "markdown",
   "metadata": {},
   "source": [
    "#### 63. Create an array class that has a name attribute (★★☆)"
   ]
  },
  {
   "cell_type": "code",
   "execution_count": null,
   "metadata": {},
   "outputs": [],
   "source": []
  },
  {
   "cell_type": "markdown",
   "metadata": {},
   "source": [
    "#### 64. Consider a given vector, how to add 1 to each element indexed by a second vector (be careful with repeated indices)? (★★★)"
   ]
  },
  {
   "cell_type": "code",
   "execution_count": null,
   "metadata": {},
   "outputs": [],
   "source": []
  },
  {
   "cell_type": "markdown",
   "metadata": {},
   "source": [
    "#### 65. How to accumulate elements of a vector (X) to an array (F) based on an index list (I)? (★★★)"
   ]
  },
  {
   "cell_type": "code",
   "execution_count": null,
   "metadata": {},
   "outputs": [],
   "source": []
  },
  {
   "cell_type": "markdown",
   "metadata": {},
   "source": [
    "#### 66. Considering a (w,h,3) image of (dtype=ubyte), compute the number of unique colors (★★★)"
   ]
  },
  {
   "cell_type": "code",
   "execution_count": null,
   "metadata": {},
   "outputs": [],
   "source": []
  },
  {
   "cell_type": "markdown",
   "metadata": {},
   "source": [
    "#### 67. Considering a four dimensions array, how to get sum over the last two axis at once? (★★★)"
   ]
  },
  {
   "cell_type": "code",
   "execution_count": null,
   "metadata": {},
   "outputs": [],
   "source": []
  },
  {
   "cell_type": "markdown",
   "metadata": {},
   "source": [
    "#### 68. Considering a one-dimensional vector D, how to compute means of subsets of D using a vector S of same size describing subset  indices? (★★★)"
   ]
  },
  {
   "cell_type": "code",
   "execution_count": null,
   "metadata": {},
   "outputs": [],
   "source": []
  },
  {
   "cell_type": "markdown",
   "metadata": {},
   "source": [
    "#### 69. How to get the diagonal of a dot product? (★★★)"
   ]
  },
  {
   "cell_type": "code",
   "execution_count": null,
   "metadata": {},
   "outputs": [],
   "source": []
  },
  {
   "cell_type": "markdown",
   "metadata": {},
   "source": [
    "#### 70. Consider the vector \\[1, 2, 3, 4, 5\\], how to build a new vector with 3 consecutive zeros interleaved between each value? (★★★)"
   ]
  },
  {
   "cell_type": "code",
   "execution_count": null,
   "metadata": {},
   "outputs": [],
   "source": []
  },
  {
   "cell_type": "markdown",
   "metadata": {},
   "source": [
    "#### 71. Consider an array of dimension (5,5,3), how to mulitply it by an array with dimensions (5,5)? (★★★)"
   ]
  },
  {
   "cell_type": "code",
   "execution_count": null,
   "metadata": {},
   "outputs": [],
   "source": []
  },
  {
   "cell_type": "markdown",
   "metadata": {},
   "source": [
    "#### 72. How to swap two rows of an array? (★★★)"
   ]
  },
  {
   "cell_type": "code",
   "execution_count": null,
   "metadata": {},
   "outputs": [],
   "source": []
  },
  {
   "cell_type": "markdown",
   "metadata": {},
   "source": [
    "#### 73. Consider a set of 10 triplets describing 10 triangles (with shared vertices), find the set of unique line segments composing all the  triangles (★★★)"
   ]
  },
  {
   "cell_type": "code",
   "execution_count": null,
   "metadata": {},
   "outputs": [],
   "source": []
  },
  {
   "cell_type": "markdown",
   "metadata": {},
   "source": [
    "#### 74. Given an array C that is a bincount, how to produce an array A such that np.bincount(A) == C? (★★★)"
   ]
  },
  {
   "cell_type": "code",
   "execution_count": null,
   "metadata": {},
   "outputs": [],
   "source": []
  },
  {
   "cell_type": "markdown",
   "metadata": {},
   "source": [
    "#### 75. How to compute averages using a sliding window over an array? (★★★)"
   ]
  },
  {
   "cell_type": "code",
   "execution_count": null,
   "metadata": {},
   "outputs": [],
   "source": []
  },
  {
   "cell_type": "markdown",
   "metadata": {},
   "source": [
    "#### 76. Consider a one-dimensional array Z, build a two-dimensional array whose first row is (Z\\[0\\],Z\\[1\\],Z\\[2\\]) and each subsequent row is  shifted by 1 (last row should be (Z\\[-3\\],Z\\[-2\\],Z\\[-1\\]) (★★★)"
   ]
  },
  {
   "cell_type": "code",
   "execution_count": null,
   "metadata": {},
   "outputs": [],
   "source": []
  },
  {
   "cell_type": "markdown",
   "metadata": {},
   "source": [
    "#### 77. How to negate a boolean, or to change the sign of a float inplace? (★★★)"
   ]
  },
  {
   "cell_type": "code",
   "execution_count": null,
   "metadata": {},
   "outputs": [],
   "source": []
  },
  {
   "cell_type": "markdown",
   "metadata": {},
   "source": [
    "#### 78. Consider 2 sets of points P0,P1 describing lines (2d) and a point p, how to compute distance from p to each line i  (P0\\[i\\],P1\\[i\\])? (★★★)"
   ]
  },
  {
   "cell_type": "code",
   "execution_count": null,
   "metadata": {},
   "outputs": [],
   "source": []
  },
  {
   "cell_type": "markdown",
   "metadata": {},
   "source": [
    "#### 79. Consider 2 sets of points P0,P1 describing lines (2d) and a set of points P, how to compute distance from each point j (P\\[j\\]) to each line i (P0\\[i\\],P1\\[i\\])? (★★★)"
   ]
  },
  {
   "cell_type": "code",
   "execution_count": null,
   "metadata": {},
   "outputs": [],
   "source": []
  },
  {
   "cell_type": "markdown",
   "metadata": {},
   "source": [
    "#### 80. Consider an arbitrary array, write a function that extract a subpart with a fixed shape and centered on a given element (pad with a `fill` value when necessary) (★★★)"
   ]
  },
  {
   "cell_type": "code",
   "execution_count": null,
   "metadata": {},
   "outputs": [],
   "source": []
  },
  {
   "cell_type": "markdown",
   "metadata": {},
   "source": [
    "#### 81. Consider an array Z = \\[1,2,3,4,5,6,7,8,9,10,11,12,13,14\\], how to generate an array R = \\[\\[1,2,3,4\\], \\[2,3,4,5\\], \\[3,4,5,6\\], ..., \\[11,12,13,14\\]\\]? (★★★)"
   ]
  },
  {
   "cell_type": "code",
   "execution_count": null,
   "metadata": {},
   "outputs": [],
   "source": []
  },
  {
   "cell_type": "markdown",
   "metadata": {},
   "source": [
    "#### 82. Compute a matrix rank (★★★)"
   ]
  },
  {
   "cell_type": "code",
   "execution_count": null,
   "metadata": {},
   "outputs": [],
   "source": []
  },
  {
   "cell_type": "markdown",
   "metadata": {},
   "source": [
    "#### 83. How to find the most frequent value in an array?"
   ]
  },
  {
   "cell_type": "code",
   "execution_count": null,
   "metadata": {},
   "outputs": [],
   "source": []
  },
  {
   "cell_type": "markdown",
   "metadata": {},
   "source": [
    "#### 84. Extract all the contiguous 3x3 blocks from a random 10x10 matrix (★★★)"
   ]
  },
  {
   "cell_type": "code",
   "execution_count": null,
   "metadata": {},
   "outputs": [],
   "source": []
  },
  {
   "cell_type": "markdown",
   "metadata": {},
   "source": [
    "#### 85. Create a 2D array subclass such that Z\\[i,j\\] == Z\\[j,i\\] (★★★)"
   ]
  },
  {
   "cell_type": "code",
   "execution_count": null,
   "metadata": {},
   "outputs": [],
   "source": []
  },
  {
   "cell_type": "markdown",
   "metadata": {},
   "source": [
    "#### 86. Consider a set of p matrices wich shape (n,n) and a set of p vectors with shape (n,1). How to compute the sum of of the p matrix products at once? (result has shape (n,1)) (★★★)"
   ]
  },
  {
   "cell_type": "code",
   "execution_count": null,
   "metadata": {},
   "outputs": [],
   "source": []
  },
  {
   "cell_type": "markdown",
   "metadata": {},
   "source": [
    "#### 87. Consider a 16x16 array, how to get the block-sum (block size is 4x4)? (★★★)"
   ]
  },
  {
   "cell_type": "code",
   "execution_count": null,
   "metadata": {},
   "outputs": [],
   "source": []
  },
  {
   "cell_type": "markdown",
   "metadata": {},
   "source": [
    "#### 88. How to implement the Game of Life using numpy arrays? (★★★)"
   ]
  },
  {
   "cell_type": "code",
   "execution_count": null,
   "metadata": {},
   "outputs": [],
   "source": []
  },
  {
   "cell_type": "markdown",
   "metadata": {},
   "source": [
    "#### 89. How to get the n largest values of an array (★★★)"
   ]
  },
  {
   "cell_type": "code",
   "execution_count": null,
   "metadata": {},
   "outputs": [],
   "source": []
  },
  {
   "cell_type": "markdown",
   "metadata": {},
   "source": [
    "#### 90. Given an arbitrary number of vectors, build the cartesian product (every combinations of every item) (★★★)"
   ]
  },
  {
   "cell_type": "code",
   "execution_count": null,
   "metadata": {
    "scrolled": true
   },
   "outputs": [],
   "source": []
  },
  {
   "cell_type": "markdown",
   "metadata": {},
   "source": [
    "#### 91. How to create a record array from a regular array? (★★★)"
   ]
  },
  {
   "cell_type": "code",
   "execution_count": null,
   "metadata": {},
   "outputs": [],
   "source": []
  },
  {
   "cell_type": "markdown",
   "metadata": {},
   "source": [
    "#### 92. Consider a large vector Z, compute Z to the power of 3 using 3 different methods (★★★)"
   ]
  },
  {
   "cell_type": "code",
   "execution_count": null,
   "metadata": {},
   "outputs": [],
   "source": []
  },
  {
   "cell_type": "markdown",
   "metadata": {},
   "source": [
    "#### 93. Consider two arrays A and B of shape (8,3) and (2,2). How to find rows of A that contain elements of each row of B regardless of the order of the elements in B? (★★★)"
   ]
  },
  {
   "cell_type": "code",
   "execution_count": null,
   "metadata": {},
   "outputs": [],
   "source": []
  },
  {
   "cell_type": "markdown",
   "metadata": {},
   "source": [
    "#### 94. Considering a 10x3 matrix, extract rows with unequal values (e.g. \\[2,2,3\\]) (★★★)"
   ]
  },
  {
   "cell_type": "code",
   "execution_count": null,
   "metadata": {},
   "outputs": [],
   "source": []
  },
  {
   "cell_type": "markdown",
   "metadata": {},
   "source": [
    "#### 95. Convert a vector of ints into a matrix binary representation (★★★)"
   ]
  },
  {
   "cell_type": "code",
   "execution_count": null,
   "metadata": {},
   "outputs": [],
   "source": []
  },
  {
   "cell_type": "markdown",
   "metadata": {},
   "source": [
    "#### 96. Given a two dimensional array, how to extract unique rows? (★★★)"
   ]
  },
  {
   "cell_type": "code",
   "execution_count": null,
   "metadata": {},
   "outputs": [],
   "source": []
  },
  {
   "cell_type": "markdown",
   "metadata": {},
   "source": [
    "#### 97. Considering 2 vectors A & B, write the einsum equivalent of inner, outer, sum, and mul function (★★★)"
   ]
  },
  {
   "cell_type": "code",
   "execution_count": null,
   "metadata": {},
   "outputs": [],
   "source": []
  },
  {
   "cell_type": "markdown",
   "metadata": {},
   "source": [
    "#### 98. Considering a path described by two vectors (X,Y), how to sample it using equidistant samples (★★★)?"
   ]
  },
  {
   "cell_type": "code",
   "execution_count": null,
   "metadata": {},
   "outputs": [],
   "source": []
  },
  {
   "cell_type": "markdown",
   "metadata": {},
   "source": [
    "#### 99. Given an integer n and a 2D array X, select from X the rows which can be interpreted as draws from a multinomial distribution with n degrees, i.e., the rows which only contain integers and which sum to n. (★★★)"
   ]
  },
  {
   "cell_type": "code",
   "execution_count": null,
   "metadata": {},
   "outputs": [],
   "source": []
  },
  {
   "cell_type": "markdown",
   "metadata": {},
   "source": [
    "#### 100. Compute bootstrapped 95% confidence intervals for the mean of a 1D array X (i.e., resample the elements of an array with replacement N times, compute the mean of each sample, and then compute percentiles over the means). (★★★)"
   ]
  },
  {
   "cell_type": "code",
   "execution_count": null,
   "metadata": {},
   "outputs": [],
   "source": []
  }
 ],
 "metadata": {
  "kernelspec": {
   "display_name": "Python 3",
   "language": "python",
   "name": "python3"
  },
  "language_info": {
   "codemirror_mode": {
    "name": "ipython",
    "version": 3
   },
   "file_extension": ".py",
   "mimetype": "text/x-python",
   "name": "python",
   "nbconvert_exporter": "python",
   "pygments_lexer": "ipython3",
   "version": "3.7.4"
  }
 },
 "nbformat": 4,
 "nbformat_minor": 1
}
